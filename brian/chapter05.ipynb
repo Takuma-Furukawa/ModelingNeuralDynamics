{
 "cells": [
  {
   "cell_type": "markdown",
   "metadata": {},
   "source": [
    "# Chapter 5\n",
    "## Three Simple Models of Neurons in Rodent Brains\n",
    "- Code by : [Abolfazl Ziaeemehr](https://github.com/Ziaeemehr)"
   ]
  },
  {
   "cell_type": "code",
   "execution_count": 1,
   "metadata": {},
   "outputs": [],
   "source": [
    "import brian2 as b2\n",
    "import matplotlib.pyplot as plt\n",
    "import numpy as np\n",
    "from input_factory import get_step_current"
   ]
  },
  {
   "cell_type": "code",
   "execution_count": 2,
   "metadata": {},
   "outputs": [],
   "source": [
    "def plot_data(state_monitor, title=None, c='k'):\n",
    "    \"\"\"Plots the state_monitor variables \"vm\" vs. time.\n",
    "\n",
    "    Args:\n",
    "        state_monitor (StateMonitor): the data to plot\n",
    "        title (string, optional): plot title to display\n",
    "    \"\"\"\n",
    "\n",
    "    fig, ax = plt.subplots(1, figsize=(10, 3))\n",
    "\n",
    "    ax.plot(state_monitor.t / b2.ms, state_monitor.vm[0] / b2.mV, lw=2, c=c)\n",
    "\n",
    "    ax.set_xlabel(\"t [ms]\")\n",
    "    ax.set_ylabel(\"v [mV]\")\n",
    "\n",
    "    plt.axis((\n",
    "        0,\n",
    "        np.max(state_monitor.t / b2.ms),\n",
    "        -100, 50))\n",
    "\n",
    "    if title is not None:\n",
    "        ax.set_title(title)\n",
    "\n",
    "    plt.show();"
   ]
  },
  {
   "cell_type": "markdown",
   "metadata": {},
   "source": [
    "### Reduced Traub-Miles Model of a Pyramidal Neuron in Rat Hippocampus"
   ]
  },
  {
   "cell_type": "code",
   "execution_count": 3,
   "metadata": {},
   "outputs": [
    {
     "data": {
      "image/png": "[encoded data removed]",
      "text/plain": [
       "<Figure size 720x216 with 1 Axes>"
      ]
     },
     "metadata": {
      "needs_background": "light"
     },
     "output_type": "display_data"
    }
   ],
   "source": [
    "import brian2 as b2\n",
    "import matplotlib.pyplot as plt\n",
    "import numpy as np\n",
    "import neurodynex3.tools.input_factory as input_factory\n",
    "from numpy import exp\n",
    "\n",
    "\n",
    "def init(v):\n",
    "    def alpha_h(v): return 0.128 * exp(-(v + 50.0) / 18.0)\n",
    "    def alpha_m(v): return 0.32 * (v + 54) / (1.0 - exp(-(v + 54.0) / 4.0))\n",
    "    def alpha_n(v): return 0.032 * (v + 52) / (1.0 - exp(-(v + 52.0) / 5.0))\n",
    "    def beta_h(v):  return 4.0 / (1.0 + exp(-(v + 27.0) / 5.0))\n",
    "    def beta_m(v):  return 0.28 * (v + 27.0) / (exp((v + 27.0) / 5.0) - 1.0)\n",
    "    def beta_n(v):  return 0.5 * exp(-(v + 57.0) / 40.0)\n",
    "    def h_inf(v):   return alpha_h(v) / (alpha_h(v) + beta_h(v))\n",
    "    def m_inf(v):   return alpha_m(v) / (alpha_m(v) + beta_m(v))\n",
    "    def n_inf(v):   return alpha_n(v) / (alpha_n(v) + beta_n(v))\n",
    "    \n",
    "    m = m_inf(v)\n",
    "    h = h_inf(v)\n",
    "    n = n_inf(v)\n",
    "    x0 = [v, m, n, h]\n",
    "    return x0\n",
    "\n",
    "\n",
    "def simulate_RTM_neuron(input_current, simulation_time):\n",
    "\n",
    "    \"\"\"A Reduced Traub-Miles Model neuron implemented in Brian2.\n",
    "\n",
    "    Args:\n",
    "        input_current (TimedArray): Input current injected into the HH neuron\n",
    "        simulation_time (float): Simulation time [seconds]\n",
    "\n",
    "    Returns:\n",
    "        StateMonitor: Brian2 StateMonitor with recorded fields\n",
    "        [\"vm\", \"I_e\", \"m\", \"n\", \"h\"]\n",
    "    \"\"\"\n",
    "\n",
    "    # neuron parameters\n",
    "    El = -67 * b2.mV\n",
    "    EK = -100 * b2.mV\n",
    "    ENa = 50 * b2.mV\n",
    "    gl = 0.1 * b2.msiemens\n",
    "    gK = 80 * b2.msiemens\n",
    "    gNa = 100 * b2.msiemens\n",
    "    C = 1 * b2.ufarad\n",
    "\n",
    "    # forming RTM model with differential equations\n",
    "    eqs = \"\"\"\n",
    "    I_e = input_current(t,i) : amp\n",
    "    \n",
    "    alphah = 0.128 * exp(-(vm + 50.0*mV) / (18.0*mV))/ms :Hz\n",
    "    alpham = 0.32/mV * (vm + 54*mV) / (1.0 - exp(-(vm + 54.0*mV) / (4.0*mV)))/ms:Hz\n",
    "    alphan = 0.032/mV * (vm + 52*mV) / (1.0 - exp(-(vm + 52.0*mV) / (5.0*mV)))/ms:Hz\n",
    "    \n",
    "    betah  = 4.0 / (1.0 + exp(-(vm + 27.0*mV) / (5.0*mV)))/ms:Hz\n",
    "    betam  = 0.28/mV * (vm + 27.0*mV) / (exp((vm + 27.0*mV) / (5.0*mV)) - 1.0)/ms:Hz\n",
    "    betan  = 0.5 * exp(-(vm + 57.0*mV) / (40.0*mV))/ms:Hz\n",
    "\n",
    "    membrane_Im = I_e + gNa*m**3*h*(ENa-vm) + \\\n",
    "        gl*(El-vm) + gK*n**4*(EK-vm) : amp\n",
    "    \n",
    "    dm/dt = alpham*(1-m)-betam*m : 1\n",
    "    dn/dt = alphan*(1-n)-betan*n : 1\n",
    "    dh/dt = alphah*(1-h)-betah*h : 1\n",
    "    \n",
    "    dvm/dt = membrane_Im/C : volt\n",
    "    \"\"\"\n",
    "    \n",
    "    neuron = b2.NeuronGroup(1, eqs, method=\"rk4\", dt=0.05*b2.ms)\n",
    "\n",
    "    # parameter initialization [come from x_inf(v) {x:m,n,h}]\n",
    "    vm0, m0, n0, h0 = init(-70.0)\n",
    "    neuron.vm = vm0*b2.mV\n",
    "    neuron.m = m0\n",
    "    neuron.h = h0\n",
    "    neuron.n = n0\n",
    "\n",
    "    # tracking parameters\n",
    "    st_mon = b2.StateMonitor(neuron, [\"vm\", \"I_e\", \"m\", \"n\", \"h\"], record=True)\n",
    "\n",
    "    # running the simulation\n",
    "    hh_net = b2.Network(neuron)\n",
    "    hh_net.add(st_mon)\n",
    "    hh_net.run(simulation_time)\n",
    "\n",
    "    return st_mon\n",
    "\n",
    "current = input_factory.get_step_current(0, 101, b2.ms, 1.5 * b2.uA)\n",
    "state_monitor = simulate_RTM_neuron(current, 101 * b2.ms)\n",
    "plot_data(state_monitor, title=\"RTM Neuron\")\n"
   ]
  },
  {
   "cell_type": "markdown",
   "metadata": {},
   "source": [
    "### Wang-Buzs´aki Model of an Inhibitory Interneuron in Rat Hippocampus"
   ]
  },
  {
   "cell_type": "code",
   "execution_count": 4,
   "metadata": {
    "scrolled": true
   },
   "outputs": [
    {
     "data": {
      "image/png": "[encoded data removed]",
      "text/plain": [
       "<Figure size 720x216 with 1 Axes>"
      ]
     },
     "metadata": {
      "needs_background": "light"
     },
     "output_type": "display_data"
    }
   ],
   "source": [
    "import brian2 as b2\n",
    "import matplotlib.pyplot as plt\n",
    "import numpy as np\n",
    "import neurodynex3.tools.input_factory as input_factory\n",
    "from numpy import exp\n",
    "\n",
    "\n",
    "def init(v):\n",
    "    def alpha_h(v): return  0.35 * exp(-(v + 58.0) / 20.0)\n",
    "    def alpha_m(v): return 0.1 * (v + 35.0) / (1.0 - exp(-0.1 * (v + 35.0)))\n",
    "    def alpha_n(v): return -0.05 * (v + 34.0) / (exp(-0.1 * (v + 34.0)) - 1.0)\n",
    "    def beta_h(v):  return 5.0 / (exp(-0.1 * (v + 28.0)) + 1.0)\n",
    "    def beta_m(v):  return 4.0 * exp(-(v + 60.0) / 18.0)\n",
    "    def beta_n(v):  return 0.625 * exp(-(v + 44.0) / 80.0)\n",
    "    def h_inf(v):   return alpha_h(v) / (alpha_h(v) + beta_h(v))\n",
    "    def m_inf(v):   return alpha_m(v) / (alpha_m(v) + beta_m(v))\n",
    "    def n_inf(v):   return alpha_n(v) / (alpha_n(v) + beta_n(v))\n",
    "    \n",
    "    m = m_inf(v)\n",
    "    h = h_inf(v)\n",
    "    n = n_inf(v)\n",
    "    x0 = [v, n, h]\n",
    "    return x0\n",
    "\n",
    "\n",
    "def simulate_WB_neuron(input_current, simulation_time):\n",
    "\n",
    "    \"\"\"A Wang-Buszaki neuron implemented in Brian2.\n",
    "\n",
    "    Args:\n",
    "        input_current (TimedArray): Input current injected into the HH neuron\n",
    "        simulation_time (float): Simulation time [seconds]\n",
    "\n",
    "    Returns:\n",
    "        StateMonitor: Brian2 StateMonitor with recorded fields\n",
    "        [\"vm\", \"I_e\", \"n\", \"h\"]\n",
    "    \"\"\"\n",
    "\n",
    "    # neuron parameters\n",
    "    El = -65 * b2.mV\n",
    "    EK = -90 * b2.mV\n",
    "    ENa = 55 * b2.mV\n",
    "    gl = 0.1 * b2.msiemens\n",
    "    gK = 9 * b2.msiemens\n",
    "    gNa = 35 * b2.msiemens\n",
    "    C = 1 * b2.ufarad\n",
    "\n",
    "    # forming WB model with differential equations\n",
    "    eqs = \"\"\"\n",
    "    I_e = input_current(t,i) : amp\n",
    "    \n",
    "    alphah = 0.35 * exp(-(vm + 58.0*mV) / (20.0*mV))/ms :Hz\n",
    "    alpham = 0.1/mV * (vm + 35.0*mV) / (1.0 - exp(-0.1/mV * (vm + 35.0*mV))) /ms :Hz\n",
    "    alphan = -0.05/mV * (vm + 34.0*mV) / (exp(-0.1/mV * (vm + 34.0*mV)) - 1.0)/ms :Hz\n",
    "    \n",
    "    betah = 5.0 / (exp(-0.1/mV * (vm + 28.0*mV)) + 1.0)/ms :Hz\n",
    "    betam = 4.0 * exp(-(vm + 60.0*mV) / (18.0*mV))/ms :Hz\n",
    "    betan = 0.625 * exp(-(vm + 44.0*mV) / (80.0*mV))/ms :Hz\n",
    "    \n",
    "    m_inf = alpham / (alpham + betam) : 1\n",
    "    \n",
    "    membrane_Im = I_e + gNa*m_inf**3*h*(ENa-vm) + \\\n",
    "        gl*(El-vm) + gK*n**4*(EK-vm) : amp\n",
    "    \n",
    "    dn/dt = alphan*(1-n)-betan*n : 1\n",
    "    dh/dt = alphah*(1-h)-betah*h : 1\n",
    "    \n",
    "    dvm/dt = membrane_Im/C : volt\n",
    "    \"\"\"\n",
    "    \n",
    "    neuron = b2.NeuronGroup(1, eqs, method=\"rk4\", dt=0.05*b2.ms)\n",
    "\n",
    "    # parameter initialization [come from x_inf(v) {x:m,n,h}]\n",
    "    vm0, n0, h0 = init(-63)\n",
    "    neuron.vm = vm0*b2.mV\n",
    "    neuron.h = h0\n",
    "    neuron.n = n0\n",
    "\n",
    "    # tracking parameters\n",
    "    st_mon = b2.StateMonitor(neuron, [\"vm\", \"I_e\", \"n\", \"h\"], record=True)\n",
    "\n",
    "    # running the simulation\n",
    "    hh_net = b2.Network(neuron)\n",
    "    hh_net.add(st_mon)\n",
    "    hh_net.run(simulation_time)\n",
    "\n",
    "    return st_mon\n",
    "\n",
    "current = input_factory.get_step_current(0, 101, b2.ms, 0.75 * b2.uA)\n",
    "state_monitor = simulate_WB_neuron(current, 101 * b2.ms)\n",
    "plot_data(state_monitor, title=\"WB Neuron\")\n"
   ]
  },
  {
   "cell_type": "code",
   "execution_count": null,
   "metadata": {},
   "outputs": [],
   "source": []
  }
 ],
 "metadata": {
  "kernelspec": {
   "display_name": "Python 3.6.9 64-bit",
   "language": "python",
   "name": "python36964bit3ec0dbbd46ae448585f9bbd63312a519"
  },
  "language_info": {
   "codemirror_mode": {
    "name": "ipython",
    "version": 3
   },
   "file_extension": ".py",
   "mimetype": "text/x-python",
   "name": "python",
   "nbconvert_exporter": "python",
   "pygments_lexer": "ipython3",
   "version": "3.6.9"
  }
 },
 "nbformat": 4,
 "nbformat_minor": 4
}

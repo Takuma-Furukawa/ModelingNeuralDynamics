{
 "cells": [
  {
   "cell_type": "markdown",
   "metadata": {},
   "source": [
    "# Chapter 30\n",
    "## The PING Model of Gamma Rhythms\n",
    "- Code by : [Abolfazl Ziaeemehr](https://github.com/Ziaeemehr)"
   ]
  },
  {
   "cell_type": "code",
   "execution_count": 1,
   "metadata": {},
   "outputs": [],
   "source": [
    "import brian2 as b2\n",
    "import matplotlib.pyplot as plt\n",
    "import numpy as np\n",
    "from input_factory import get_step_current"
   ]
  },
  {
   "cell_type": "code",
   "execution_count": 184,
   "metadata": {},
   "outputs": [],
   "source": [
    "def plot_data(state_monitor, title=None, c='k'):\n",
    "    \"\"\"Plots the state_monitor variables \"vm\" vs. time.\n",
    "\n",
    "    Args:\n",
    "        state_monitor (StateMonitor): the data to plot\n",
    "        title (string, optional): plot title to display\n",
    "    \"\"\"\n",
    "\n",
    "    fig, ax = plt.subplots(2, figsize=(10, 6), sharex=True)\n",
    "\n",
    "    \n",
    "    ax[0].plot(state_monitor.t / b2.ms, state_monitor.vm[0] / b2.mV, lw=2, c=\"r\", alpha=0.5, label=\"neuron 0\")\n",
    "    ax[0].plot(state_monitor.t / b2.ms, state_monitor.vm[1] / b2.mV, lw=2, c=\"b\", alpha=0.5, label='neuron 1')\n",
    "    ax[1].plot(state_monitor.t / b2.ms, state_monitor.s_in[0], lw=2, c=\"r\", label='s_in, source')\n",
    "    ax[1].plot(state_monitor.t / b2.ms, state_monitor.s_in[1], lw=2, c=\"b\", label='s_in, target')\n",
    "    \n",
    "\n",
    "    ax[0].set_xlabel(\"t [ms]\")\n",
    "    ax[0].set_ylabel(\"v [mV]\")\n",
    "    ax[1].set_ylabel(\"s\")\n",
    "\n",
    "    ax[0].set_xlim(0, np.max(state_monitor.t / b2.ms))\n",
    "    ax[0].set_ylim(-100, 50)\n",
    "    ax[1].set_ylim(0, 1)\n",
    "    ax[0].legend()\n",
    "    ax[1].legend()\n",
    "\n",
    "    if title is not None:\n",
    "        ax[0].set_title(title)\n",
    "\n",
    "    plt.show();"
   ]
  },
  {
   "cell_type": "code",
   "execution_count": 194,
   "metadata": {},
   "outputs": [],
   "source": [
    "\n",
    "def RTM_CELL(N, I_e, simulation_time):\n",
    "    \n",
    "    # neuron RTM parameters\n",
    "    El = -67 * b2.mV\n",
    "    EK = -100 * b2.mV\n",
    "    ENa = 50 * b2.mV\n",
    "    ESyn= 0 * b2.mV\n",
    "    gl = 0.1 * b2.msiemens\n",
    "    gK = 80 * b2.msiemens\n",
    "    gNa = 100 * b2.msiemens\n",
    "    \n",
    "    C = 1 * b2.ufarad\n",
    "    \n",
    "    weight = 0.25* b2.msiemens\n",
    "    gSyn = 1.0 * b2.msiemens\n",
    "    tau_d = 2 *b2.ms\n",
    "    tau_r = 0.2 *b2.ms\n",
    "\n",
    "    # forming RTM model with differential equations\n",
    "    eqs = \"\"\"\n",
    "\n",
    "    alphah = 0.128 * exp(-(vm + 50.0*mV) / (18.0*mV))/ms :Hz\n",
    "    alpham = 0.32/mV * (vm + 54*mV) / (1.0 - exp(-(vm + 54.0*mV) / (4.0*mV)))/ms:Hz\n",
    "    alphan = 0.032/mV * (vm + 52*mV) / (1.0 - exp(-(vm + 52.0*mV) / (5.0*mV)))/ms:Hz\n",
    "\n",
    "    betah  = 4.0 / (1.0 + exp(-(vm + 27.0*mV) / (5.0*mV)))/ms:Hz\n",
    "    betam  = 0.28/mV * (vm + 27.0*mV) / (exp((vm + 27.0*mV) / (5.0*mV)) - 1.0)/ms:Hz\n",
    "    betan  = 0.5 * exp(-(vm + 57.0*mV) / (40.0*mV))/ms:Hz\n",
    "\n",
    "    membrane_Im = I_ext + gNa*m**3*h*(ENa-vm) + \\\n",
    "        gl*(El-vm) + gK*n**4*(EK-vm) + gSyn*s_in*(-vm): amp\n",
    "    I_ext : amp\n",
    "    s_in  : 1\n",
    "\n",
    "    dm/dt = alpham*(1-m)-betam*m : 1\n",
    "    dn/dt = alphan*(1-n)-betan*n : 1\n",
    "    dh/dt = alphah*(1-h)-betah*h : 1\n",
    "    \n",
    "    ds/dt = 0.5 * (1 + tanh(0.1*vm/mV)) * (1-s)/tau_r - s/tau_d : 1\n",
    "\n",
    "    dvm/dt = membrane_Im/C : volt\n",
    "    \"\"\"\n",
    "\n",
    "    neuron = b2.NeuronGroup(N, eqs, method=\"euler\", \n",
    "                            dt=0.01*b2.ms,\n",
    "                            threshold='vm>-55*mV')\n",
    "    \n",
    "    # initialize variables\n",
    "    neuron.vm = [-70.0, -65.0]*b2.mV\n",
    "    neuron.m = \"alpham / (alpham + betam)\"\n",
    "    neuron.h = \"alphah / (alphah + betah)\"\n",
    "    neuron.n = \"alphan / (alphan + betan)\"\n",
    "    neuron.I_ext = [I_e, 0.0*b2.uA]\n",
    "    neuron.s_in=[0,0]\n",
    "    \n",
    "    S = b2.Synapses(neuron, \n",
    "                    neuron, \n",
    "                    '''\n",
    "                    w : 1\n",
    "                    s_in_post = w*s_pre:1 (summed)\n",
    "                    ''')\n",
    "    S.connect(i=0, j=1)\n",
    "    S.w[0, 1] = 250\n",
    "    \n",
    "\n",
    "    # tracking variables\n",
    "    st_mon = b2.StateMonitor(neuron, [\"vm\", \"s\", \"s_in\"], record=[0,1])\n",
    "\n",
    "    # running the simulation\n",
    "    hh_net = b2.Network(neuron)\n",
    "    hh_net.add(st_mon)\n",
    "    hh_net.run(simulation_time)\n",
    "    return st_mon\n",
    "\n",
    "    \n"
   ]
  },
  {
   "cell_type": "code",
   "execution_count": 195,
   "metadata": {},
   "outputs": [],
   "source": [
    "st = RTM_CELL(2, 1.5*b2.uA, 100*b2.ms)"
   ]
  },
  {
   "cell_type": "code",
   "execution_count": 196,
   "metadata": {},
   "outputs": [
    {
     "data": {
      "image/png": "[encoded data removed]",
      "text/plain": [
       "<Figure size 720x432 with 2 Axes>"
      ]
     },
     "metadata": {
      "needs_background": "light"
     },
     "output_type": "display_data"
    }
   ],
   "source": [
    "plot_data(st)"
   ]
  },
  {
   "cell_type": "code",
   "execution_count": null,
   "metadata": {},
   "outputs": [],
   "source": []
  }
 ],
 "metadata": {
  "kernelspec": {
   "display_name": "Python 3.6.9 64-bit",
   "language": "python",
   "name": "python36964bit3ec0dbbd46ae448585f9bbd63312a519"
  },
  "language_info": {
   "codemirror_mode": {
    "name": "ipython",
    "version": 3
   },
   "file_extension": ".py",
   "mimetype": "text/x-python",
   "name": "python",
   "nbconvert_exporter": "python",
   "pygments_lexer": "ipython3",
   "version": "3.6.9"
  }
 },
 "nbformat": 4,
 "nbformat_minor": 4
}
